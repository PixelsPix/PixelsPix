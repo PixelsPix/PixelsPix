{
 "cells": [
  {
   "cell_type": "code",
   "execution_count": 2,
   "metadata": {},
   "outputs": [],
   "source": [
    "import pandas as pd\n",
    "import numpy as np\n",
    "import numpy.typing as npt\n",
    "import matplotlib.pyplot as plt"
   ]
  },
  {
   "cell_type": "markdown",
   "metadata": {},
   "source": [
    "INPUTS"
   ]
  },
  {
   "cell_type": "code",
   "execution_count": 3,
   "metadata": {},
   "outputs": [],
   "source": [
    "# a parede é um cubo/quadrado determinado pelo tamanho do lado do cubo/quadrado e numero de dimensoes\n",
    "tamanho_parede: float      = 10\n",
    "numero_dimensoes: int      = 2\n",
    "quantidade_particulas: int = 10\n",
    "\n",
    "raio:  float = 1\n",
    "massa: float = 1\n",
    "\n",
    "velocidade_maxima: float = 100"
   ]
  },
  {
   "cell_type": "markdown",
   "metadata": {},
   "source": [
    "PARTICULAS"
   ]
  },
  {
   "cell_type": "markdown",
   "metadata": {},
   "source": [
    "- Classe das particulas"
   ]
  },
  {
   "cell_type": "code",
   "execution_count": 4,
   "metadata": {},
   "outputs": [],
   "source": [
    "class Particula:\n",
    "    def __init__(self, raio: float, massa: float, vetor_posicao: list[float], vetor_velocidade: list[float]) -> None:\n",
    "        self.massa = float(massa)\n",
    "        self.raio  = float(raio)\n",
    "        self.vetor_posicao    = np.array(vetor_posicao, dtype= np.float64)\n",
    "        self.vetor_velocidade = np.array(vetor_velocidade, dtype= np.float64)\n",
    "\n",
    "    @property\n",
    "    def momento(self) -> npt.NDArray[np.float64]:\n",
    "        \"\"\"Retorna um ndarray dado por: massa * velocidade\"\"\"\n",
    "        return self.massa * self.vetor_velocidade\n",
    "    \n",
    "    @property\n",
    "    def energia_cinetica(self) -> np.float64:\n",
    "        \"\"\"Retorna um float64 dado por: massa * <velocidade, velocidade>\"\"\"\n",
    "        return self.massa * np.vdot(self.vetor_velocidade, self.vetor_velocidade)\n",
    "    \n",
    "    def atualizar_posicao(self, tempo_decorrido: float) -> None:\n",
    "        \"\"\"Usa a equação horária do movimento da partícula para atualizar sua posição um delta_t\"\"\"\n",
    "        self.vetor_posicao += self.vetor_velocidade * tempo_decorrido\n",
    "    \n",
    "    def reflexao(self, dimensao_reflexão: int) -> None:\n",
    "        \"\"\"\n",
    "        Edita o vetor velocidade, invertendo o sentido da velocidade na dimensão dada, como uma colisão elástica com a parede.\n",
    "\n",
    "        Parameters\n",
    "        ----------\n",
    "        dimensao_reflexao : int\n",
    "            0 - Inverte o sentido da velocidade em x\\n\n",
    "            1 - Inverte o sentido da velocidade em y\\n\n",
    "            2 - Inverte o sentido da velocidade em z\n",
    "        \"\"\"\n",
    "        self.vetor_velocidade[dimensao_reflexão] = -self.vetor_velocidade[dimensao_reflexão]\n",
    "\n",
    "    def __str__(self) -> str:\n",
    "        return \"Raio {}, massa {}, posicao {} e velocidade {}\".format(self.raio, self.massa, self.vetor_posicao, self.vetor_velocidade)\n",
    "    \n",
    "    def __repr__(self) -> str:\n",
    "        return \"Particula({}, {}, {}, {})\".format(self.raio, self.massa, self.vetor_posicao.tolist(), self.vetor_velocidade.tolist())"
   ]
  },
  {
   "cell_type": "markdown",
   "metadata": {},
   "source": [
    "- RNG\n",
    "- Criador de vetor aleatorio (com dimensoes certas e sem zeros)"
   ]
  },
  {
   "cell_type": "code",
   "execution_count": 5,
   "metadata": {},
   "outputs": [],
   "source": [
    "# o RNG é um gerador aleatorio de float64 entre [0, 1)\n",
    "rng = np.random.default_rng()\n",
    "\n",
    "def vetor_aleatorio(valor_minimo: float, valor_maximo: float, dimensoes: int) -> npt.NDArray[np.float64]:\n",
    "    \"\"\"\n",
    "    Gera um vetor (ndarray[float64]) com as dimensões dadas, com valores entre valor_minimo e valor_maximo, não inclusivo. Isso é para não ter problemas como iniciar na posição 0 (em colisão com parede)\n",
    "    \n",
    "    Returns\n",
    "    -------\n",
    "    vetor_aleatorio: ndarray[float64]\n",
    "        Um vetor de dimensões dadas entre valor_minimo e valor_maximo, não inclusivo.\n",
    "    \"\"\"\n",
    "    vetor_zero_a_um = rng.random(dimensoes)\n",
    "    \n",
    "    while min(vetor_zero_a_um) == 0:\n",
    "        vetor_zero_a_um[vetor_zero_a_um == 0] = rng.random() # remapeia valores nulos, se tiver\n",
    "    \n",
    "    vetor_aleatorio = (valor_maximo - valor_minimo) * vetor_zero_a_um + valor_minimo\n",
    "\n",
    "    return vetor_aleatorio"
   ]
  },
  {
   "cell_type": "markdown",
   "metadata": {},
   "source": [
    "CRIADOR DE LISTA DE PARTICULAS"
   ]
  },
  {
   "cell_type": "markdown",
   "metadata": {},
   "source": [
    "- Calculador de momento total de uma lista de particulas"
   ]
  },
  {
   "cell_type": "code",
   "execution_count": 6,
   "metadata": {},
   "outputs": [],
   "source": [
    "def momento_total_lista(lista_de_particulas: list[Particula]) -> npt.NDArray[np.float64]:\n",
    "    \"\"\"Soma os vetores de momento de todas as partículas em uma lista\"\"\"\n",
    "    momento_total = np.zeros(numero_dimensoes)\n",
    "    \n",
    "    for particula in lista_de_particulas:\n",
    "        momento_total += particula.momento\n",
    "        \n",
    "    return momento_total"
   ]
  },
  {
   "cell_type": "markdown",
   "metadata": {},
   "source": [
    "- Criador de partículas\n",
    "- Criador da lista de partículas"
   ]
  },
  {
   "cell_type": "code",
   "execution_count": 7,
   "metadata": {},
   "outputs": [],
   "source": [
    "# criador de particula com posicao e velocidade aleatorias\n",
    "def criar_particula_aleatoria(raio: float, massa: float) -> Particula:\n",
    "    \"\"\"\n",
    "    Returns\n",
    "    -------\n",
    "    particula_criada: Particula\n",
    "        Uma partícula com raio e massa dados pelo usuário e a posição e a velocidade aleatorizadas (distribuição uniforme)\n",
    "    \"\"\"\n",
    "    posicao_minima    = 0\n",
    "    posicao_maxima    = tamanho_parede\n",
    "    velocidade_minima = - velocidade_maxima # velocidades podem ser positivas ou negativas\n",
    "\n",
    "    posicao_criada    = vetor_aleatorio(posicao_minima, posicao_maxima, numero_dimensoes)\n",
    "    velocidade_criada = vetor_aleatorio(velocidade_minima, velocidade_maxima, numero_dimensoes)\n",
    "\n",
    "    particula_criada = Particula(raio, massa, posicao_criada, velocidade_criada)\n",
    "    return particula_criada\n",
    "\n",
    "\n",
    "# criador da lista de partículas\n",
    "def criar_particulas_iniciais(quantidade_particulas: int, raio: float, massa: float) -> list[Particula]: \n",
    "    \"\"\"Usa a função criar_particula_aleatoria para criar a uma lista com a quantidade de partículas desejada, ajustando a última para que o momento total da lista seja zero\"\"\"\n",
    "    # primeiro monta uma lista inicial das particulas\n",
    "    lista_particulas = [criar_particula_aleatoria(raio, massa) for i in range(quantidade_particulas)]\n",
    "\n",
    "    # depois calculamos o momento total das particulas (exceto a ultima)\n",
    "    momento_total = momento_total_lista(lista_particulas[:-1])\n",
    "    \n",
    "    # e calculamos as velocidades da ultima particula para o momento total ser zero \n",
    "    ultima_particula = lista_particulas[-1]\n",
    "    velocidade_ultima_particula = - momento_total / ultima_particula.massa\n",
    "    ultima_particula.vetor_velocidade = velocidade_ultima_particula\n",
    "\n",
    "    return lista_particulas\n",
    "        "
   ]
  },
  {
   "cell_type": "markdown",
   "metadata": {},
   "source": [
    "FUNÇÕES DAS COLISÕES\n",
    "- Cálculo do vetor normal\n",
    "- Cálculo das velocidades\n",
    "- Atualização das velocidades"
   ]
  },
  {
   "cell_type": "code",
   "execution_count": 8,
   "metadata": {},
   "outputs": [],
   "source": [
    "def vetor_normal_colisao(particula_1: Particula, particula_2: Particula) -> npt.NDArray[np.float64]:\n",
    "    \"\"\"\n",
    "    Não usar fora da colisão!\\n\n",
    "    Na colisão, a magnetude do vetor distância é a soma dos raios, simplificando o cálculo do vetor normal.\\n\n",
    "    \n",
    "    Returns\n",
    "    -------\n",
    "    vetor_normal: ndarray[float64]\n",
    "        Nota: o vetor gerado aponta para a fora da superfície da particula_1!\\n\n",
    "        normal = vetor_distancia / (soma_dos_raios)\n",
    "    \"\"\"\n",
    "    posicao_1 = particula_1.vetor_posicao\n",
    "    posicao_2 = particula_2.vetor_posicao\n",
    "\n",
    "    raio_1 = particula_1.raio\n",
    "    raio_2 = particula_2.raio\n",
    "    \n",
    "    vetor_distancia = posicao_2 - posicao_1\n",
    "    modulo_vetor_distancia = raio_1 + raio_2\n",
    "    \n",
    "    vetor_normal = vetor_distancia / modulo_vetor_distancia\n",
    "\n",
    "    return vetor_normal"
   ]
  },
  {
   "cell_type": "code",
   "execution_count": 9,
   "metadata": {},
   "outputs": [],
   "source": [
    "def velocidades_apos_colisao(massas: list[float], velocidades_normais: list[np.float64]) -> list[np.float64]:\n",
    "    \"\"\"\n",
    "    No momento da colisão, podemos decompor as velocidades das partículas em suas componentes normal ao impacto (v1 e v2) e tangencial. Somente a velocidade normal é alterada.\\n\n",
    "    v1_nova = [ (m1 - m2) v1 -   2 m2    v2 ] / (m1 + m2)\\n\n",
    "    v2_nova = [   2 m1    v1 - (m1 - m2) v2 ] / (m1 + m2)\n",
    "\n",
    "    Returns\n",
    "    -------\n",
    "    lista_velocidades_novas: list[float64]\n",
    "        É uma lista formada pelas velocidades normais novas calculadas, na forma  [v1_nova, v2_nova]\n",
    "    \"\"\"\n",
    "    m1, m2 = massas\n",
    "    v1, v2 = velocidades_normais\n",
    "    \n",
    "    diff_massa = m1 - m2\n",
    "    soma_massa = m1 + m2\n",
    "\n",
    "    velocidade_1_nova = (diff_massa * v1 -    2*m2    * v2) / soma_massa\n",
    "    velocidade_2_nova = (   2*m1    * v1 - diff_massa * v2) / soma_massa\n",
    "\n",
    "    return [velocidade_1_nova, velocidade_2_nova]"
   ]
  },
  {
   "cell_type": "code",
   "execution_count": 10,
   "metadata": {},
   "outputs": [],
   "source": [
    "def colisao(particula_1: Particula, particula_2: Particula) -> None:\n",
    "    \"\"\"\n",
    "    Atualiza as velocidades das partículas durante uma colisão. Usar somente se a colisão já for confirmada.\\n\n",
    "    Para mudar a velocidade normal sem alterar a velocidade tangencial, o vetor da velocidade tangencial é calculado e somado com a velocidade normal nova:\\n\\n\n",
    "    velocidade_normal     = <velocidade_antes, vetor_normal>\\n\n",
    "    velocidade_tangencial = velocidade_antes - velocidade_normal\\n\n",
    "\n",
    "    velocidade_antes  = velocidade_tangencial + velocidade_normal\\n\n",
    "    velocidade_depois = velocidade_tangencial + velocidade_normal_nova\n",
    "    \"\"\"\n",
    "    vetor_normal = vetor_normal_colisao(particula_1, particula_2)\n",
    "\n",
    "    massa_1 = particula_1.massa\n",
    "    massa_2 = particula_2.massa\n",
    "\n",
    "    v1_normal = np.vdot(particula_1.vetor_velocidade, vetor_normal)\n",
    "    v2_normal = np.vdot(particula_2.vetor_velocidade, vetor_normal)\n",
    "\n",
    "    vetor_v1_tangente = particula_1.vetor_velocidade - v1_normal * vetor_normal\n",
    "    vetor_v2_tangente = particula_2.vetor_velocidade - v2_normal * vetor_normal\n",
    "\n",
    "    v1_normal_novo, v2_normal_novo = velocidades_apos_colisao(massas = [massa_1, massa_2], velocidades_normais = [v1_normal, v2_normal])\n",
    "    \n",
    "    particula_1.vetor_velocidade = vetor_v1_tangente + v1_normal_novo * vetor_normal\n",
    "    particula_2.vetor_velocidade = vetor_v2_tangente + v2_normal_novo * vetor_normal"
   ]
  },
  {
   "cell_type": "markdown",
   "metadata": {},
   "source": [
    "TESTAGEM"
   ]
  },
  {
   "cell_type": "code",
   "execution_count": 11,
   "metadata": {},
   "outputs": [
    {
     "name": "stdout",
     "output_type": "stream",
     "text": [
      "[4.24024048 2.64959632 0.        ] [0. 0. 0.]\n",
      "[8.8817842e-16 4.4408921e-16 0.0000000e+00] [4.24024048 2.64959632 0.        ]\n"
     ]
    }
   ],
   "source": [
    "angulo = 32 #°\n",
    "teste1 = Particula(raio=1, massa=2, vetor_posicao=[0,0,0], vetor_velocidade=[5 * np.cos(angulo * np.pi/180), 5 * np.sin(angulo * np.pi/180), 0])\n",
    "teste2 = Particula(raio=1, massa=2, vetor_posicao=[2 * np.cos(angulo * np.pi/180), 2 * np.sin(angulo * np.pi/180), 0], vetor_velocidade=[0,0,0])\n",
    "\n",
    "print(teste1.vetor_velocidade, teste2.vetor_velocidade)\n",
    "colisao(teste1, teste2)\n",
    "print(teste1.vetor_velocidade, teste2.vetor_velocidade)"
   ]
  },
  {
   "cell_type": "code",
   "execution_count": 12,
   "metadata": {},
   "outputs": [],
   "source": [
    "populacao = criar_particulas_iniciais(quantidade_particulas=200, raio=0.01, massa=1)"
   ]
  },
  {
   "cell_type": "code",
   "execution_count": 61,
   "metadata": {},
   "outputs": [],
   "source": [
    "diametros  = []\n",
    "posicoes_x = []\n",
    "posicoes_y = []\n",
    "posicoes_z = []\n",
    "for i in populacao:\n",
    "    diametros.append(2 * i.raio)\n",
    "    posicoes_x.append(i.vetor_posicao[0])\n",
    "    posicoes_y.append(i.vetor_posicao[1])\n",
    "    \"\"\" posicoes_z.append(i.vetor_posicao[2]) \"\"\""
   ]
  },
  {
   "cell_type": "code",
   "execution_count": 63,
   "metadata": {},
   "outputs": [
    {
     "data": {
      "text/plain": [
       "[0.02,\n",
       " 0.02,\n",
       " 0.02,\n",
       " 0.02,\n",
       " 0.02,\n",
       " 0.02,\n",
       " 0.02,\n",
       " 0.02,\n",
       " 0.02,\n",
       " 0.02,\n",
       " 0.02,\n",
       " 0.02,\n",
       " 0.02,\n",
       " 0.02,\n",
       " 0.02,\n",
       " 0.02,\n",
       " 0.02,\n",
       " 0.02,\n",
       " 0.02,\n",
       " 0.02,\n",
       " 0.02,\n",
       " 0.02,\n",
       " 0.02,\n",
       " 0.02,\n",
       " 0.02,\n",
       " 0.02,\n",
       " 0.02,\n",
       " 0.02,\n",
       " 0.02,\n",
       " 0.02,\n",
       " 0.02,\n",
       " 0.02,\n",
       " 0.02,\n",
       " 0.02,\n",
       " 0.02,\n",
       " 0.02,\n",
       " 0.02,\n",
       " 0.02,\n",
       " 0.02,\n",
       " 0.02,\n",
       " 0.02,\n",
       " 0.02,\n",
       " 0.02,\n",
       " 0.02,\n",
       " 0.02,\n",
       " 0.02,\n",
       " 0.02,\n",
       " 0.02,\n",
       " 0.02,\n",
       " 0.02,\n",
       " 0.02,\n",
       " 0.02,\n",
       " 0.02,\n",
       " 0.02,\n",
       " 0.02,\n",
       " 0.02,\n",
       " 0.02,\n",
       " 0.02,\n",
       " 0.02,\n",
       " 0.02,\n",
       " 0.02,\n",
       " 0.02,\n",
       " 0.02,\n",
       " 0.02,\n",
       " 0.02,\n",
       " 0.02,\n",
       " 0.02,\n",
       " 0.02,\n",
       " 0.02,\n",
       " 0.02,\n",
       " 0.02,\n",
       " 0.02,\n",
       " 0.02,\n",
       " 0.02,\n",
       " 0.02,\n",
       " 0.02,\n",
       " 0.02,\n",
       " 0.02,\n",
       " 0.02,\n",
       " 0.02,\n",
       " 0.02,\n",
       " 0.02,\n",
       " 0.02,\n",
       " 0.02,\n",
       " 0.02,\n",
       " 0.02,\n",
       " 0.02,\n",
       " 0.02,\n",
       " 0.02,\n",
       " 0.02,\n",
       " 0.02,\n",
       " 0.02,\n",
       " 0.02,\n",
       " 0.02,\n",
       " 0.02,\n",
       " 0.02,\n",
       " 0.02,\n",
       " 0.02,\n",
       " 0.02,\n",
       " 0.02,\n",
       " 0.02,\n",
       " 0.02,\n",
       " 0.02,\n",
       " 0.02,\n",
       " 0.02,\n",
       " 0.02,\n",
       " 0.02,\n",
       " 0.02,\n",
       " 0.02,\n",
       " 0.02,\n",
       " 0.02,\n",
       " 0.02,\n",
       " 0.02,\n",
       " 0.02,\n",
       " 0.02,\n",
       " 0.02,\n",
       " 0.02,\n",
       " 0.02,\n",
       " 0.02,\n",
       " 0.02,\n",
       " 0.02,\n",
       " 0.02,\n",
       " 0.02,\n",
       " 0.02,\n",
       " 0.02,\n",
       " 0.02,\n",
       " 0.02,\n",
       " 0.02,\n",
       " 0.02,\n",
       " 0.02,\n",
       " 0.02,\n",
       " 0.02,\n",
       " 0.02,\n",
       " 0.02,\n",
       " 0.02,\n",
       " 0.02,\n",
       " 0.02,\n",
       " 0.02,\n",
       " 0.02,\n",
       " 0.02,\n",
       " 0.02,\n",
       " 0.02,\n",
       " 0.02,\n",
       " 0.02,\n",
       " 0.02,\n",
       " 0.02,\n",
       " 0.02,\n",
       " 0.02,\n",
       " 0.02,\n",
       " 0.02,\n",
       " 0.02,\n",
       " 0.02,\n",
       " 0.02,\n",
       " 0.02,\n",
       " 0.02,\n",
       " 0.02,\n",
       " 0.02,\n",
       " 0.02,\n",
       " 0.02,\n",
       " 0.02,\n",
       " 0.02,\n",
       " 0.02,\n",
       " 0.02,\n",
       " 0.02,\n",
       " 0.02,\n",
       " 0.02,\n",
       " 0.02,\n",
       " 0.02,\n",
       " 0.02,\n",
       " 0.02,\n",
       " 0.02,\n",
       " 0.02,\n",
       " 0.02,\n",
       " 0.02,\n",
       " 0.02,\n",
       " 0.02,\n",
       " 0.02,\n",
       " 0.02,\n",
       " 0.02,\n",
       " 0.02,\n",
       " 0.02,\n",
       " 0.02,\n",
       " 0.02,\n",
       " 0.02,\n",
       " 0.02,\n",
       " 0.02,\n",
       " 0.02,\n",
       " 0.02,\n",
       " 0.02,\n",
       " 0.02,\n",
       " 0.02,\n",
       " 0.02,\n",
       " 0.02,\n",
       " 0.02,\n",
       " 0.02,\n",
       " 0.02,\n",
       " 0.02,\n",
       " 0.02,\n",
       " 0.02,\n",
       " 0.02]"
      ]
     },
     "execution_count": 63,
     "metadata": {},
     "output_type": "execute_result"
    }
   ],
   "source": [
    "diametros"
   ]
  },
  {
   "cell_type": "code",
   "execution_count": 65,
   "metadata": {},
   "outputs": [
    {
     "data": {
      "text/plain": [
       "(-0.1, 10.1)"
      ]
     },
     "execution_count": 65,
     "metadata": {},
     "output_type": "execute_result"
    },
    {
     "data": {
      "image/png": "[encoded data removed]",
      "text/plain": [
       "<Figure size 640x480 with 1 Axes>"
      ]
     },
     "metadata": {},
     "output_type": "display_data"
    }
   ],
   "source": [
    "def tamanho_ponto_particula(diametro): # formula empirica para ajustar o tamanho das particulas no grafico\n",
    "    return 67000 / 100 * diametro * diametro\n",
    "\n",
    "fig = plt.figure()\n",
    "ax = fig.add_subplot()\n",
    "\n",
    "ax.scatter(posicoes_x, posicoes_y, s = [tamanho_ponto_particula(d) for d in diametros])\n",
    "ax.set_aspect(1)\n",
    "ax.set_xlim(-0.01 * tamanho_parede, 1.01 * tamanho_parede)\n",
    "ax.set_ylim(-0.01 * tamanho_parede, 1.01 * tamanho_parede)"
   ]
  },
  {
   "cell_type": "code",
   "execution_count": null,
   "metadata": {},
   "outputs": [],
   "source": []
  }
 ],
 "metadata": {
  "kernelspec": {
   "display_name": "Python 3",
   "language": "python",
   "name": "python3"
  },
  "language_info": {
   "codemirror_mode": {
    "name": "ipython",
    "version": 3
   },
   "file_extension": ".py",
   "mimetype": "text/x-python",
   "name": "python",
   "nbconvert_exporter": "python",
   "pygments_lexer": "ipython3",
   "version": "3.12.5"
  }
 },
 "nbformat": 4,
 "nbformat_minor": 2
}
