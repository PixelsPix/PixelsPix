{
 "cells": [
  {
   "cell_type": "code",
   "execution_count": 5,
   "metadata": {},
   "outputs": [],
   "source": [
    "import pandas as pd\n",
    "import numpy as np\n",
    "import matplotlib.pyplot as plt"
   ]
  },
  {
   "cell_type": "markdown",
   "metadata": {},
   "source": [
    "INPUTS"
   ]
  },
  {
   "cell_type": "code",
   "execution_count": 43,
   "metadata": {},
   "outputs": [],
   "source": [
    "# a parede é um cubo/quadrado determinado pelo tamanho do lado do cubo/quadrado e numero de dimensoes\n",
    "tamanho_parede = 10\n",
    "numero_dimensoes = 3\n",
    "quantidade_particulas = 10\n",
    "raio = 1\n",
    "massa = 1\n",
    "velocidade_maxima = 10000"
   ]
  },
  {
   "cell_type": "markdown",
   "metadata": {},
   "source": [
    "PARTICULAS"
   ]
  },
  {
   "cell_type": "markdown",
   "metadata": {},
   "source": [
    "- Classe das particulas"
   ]
  },
  {
   "cell_type": "code",
   "execution_count": 94,
   "metadata": {},
   "outputs": [],
   "source": [
    "class Particula:\n",
    "    def __init__(self, raio: float, massa: float, vetor_posicao: float, vetor_velocidade: float) -> None:\n",
    "        self.massa = massa\n",
    "        self.raio = raio\n",
    "        self.vetor_posicao = vetor_posicao\n",
    "        self.vetor_velocidade = vetor_velocidade\n",
    "\n",
    "    @property\n",
    "    def momento(self):\n",
    "        return self.massa * self.vetor_velocidade\n",
    "    \n",
    "    @property\n",
    "    def energia_cinetica(self):\n",
    "        return self.massa * self.vetor_velocidade * self.vetor_velocidade\n",
    "    \n",
    "    def atualizar_posicao(self, tempo_decorrido: float) -> None:\n",
    "        self.vetor_posicao += self.vetor_velocidade * tempo_decorrido\n",
    "    \n",
    "    def parede_reflexao(self, dimensao_da_parede: int) -> None:\n",
    "        self.vetor_velocidade[dimensao_da_parede] = - self.vetor_velocidade[dimensao_da_parede]\n",
    "\n",
    "    def __str__(self) -> str:\n",
    "        return \"Raio {}, massa {}, posicao {} e velocidade {}\".format(self.raio, self.massa, self.vetor_posicao, self.vetor_velocidade)\n",
    "    \n",
    "    def __repr__(self) -> str:\n",
    "        return \"Particula({}, {}, np.array({}), np.array({}))\".format(self.raio, self.massa, self.vetor_posicao.tolist(), self.vetor_velocidade.tolist())"
   ]
  },
  {
   "cell_type": "markdown",
   "metadata": {},
   "source": [
    "- RNG\n",
    "- Criador de vetor aleatorio (com dimensoes certas e sem zeros)\n",
    "- Criador de particula aleatoria"
   ]
  },
  {
   "cell_type": "code",
   "execution_count": 84,
   "metadata": {},
   "outputs": [],
   "source": [
    "# o RNG é um gerador aleatorio de numeros (float) entre [0, 1)\n",
    "rng = np.random.default_rng()\n",
    "\n",
    "# gerador de vetor aleatorio (sem zeros)\n",
    "# nenhuma posicao inicial pode ser 0 pra nao ter problemas com as paredes, entao esse gerador remapeia zeros\n",
    "def vetor_aleatorio(valor_minimo: float, valor_maximo: float):\n",
    "    vetor_zero_a_um = rng.random(numero_dimensoes)\n",
    "    \n",
    "    while min(vetor_zero_a_um) == 0:\n",
    "        vetor_zero_a_um[vetor_zero_a_um == 0] = rng.random() # remapeia valores que forem zero\n",
    "\n",
    "    vetor_aleatorio = (valor_maximo - valor_minimo) * vetor_zero_a_um + valor_minimo\n",
    "    return vetor_aleatorio\n",
    "\n",
    "# criador de particula\n",
    "def criador_de_particula(raio: float, massa: float) -> Particula:\n",
    "    posicao_criada = vetor_aleatorio(0, tamanho_parede)\n",
    "    velocidade_criada = vetor_aleatorio(-velocidade_maxima, velocidade_maxima) # velocidades podem ser positivas ou negativas\n",
    "\n",
    "    particula_criada = Particula(raio, massa, posicao_criada, velocidade_criada)\n",
    "    return particula_criada"
   ]
  },
  {
   "cell_type": "markdown",
   "metadata": {},
   "source": [
    "CRIADOR DE LISTA DE PARTICULAS"
   ]
  },
  {
   "cell_type": "markdown",
   "metadata": {},
   "source": [
    "- Calculador de momento total de uma lista de particulas"
   ]
  },
  {
   "cell_type": "code",
   "execution_count": null,
   "metadata": {},
   "outputs": [],
   "source": [
    "def momento_total_lista(lista_de_particulas: list[Particula]):\n",
    "    momento_total = np.zeros(numero_dimensoes)\n",
    "    for particula in lista_de_particulas:\n",
    "        momento_total += particula.momento\n",
    "        \n",
    "    return momento_total"
   ]
  },
  {
   "cell_type": "markdown",
   "metadata": {},
   "source": [
    "- Criador da lista"
   ]
  },
  {
   "cell_type": "code",
   "execution_count": 16,
   "metadata": {},
   "outputs": [],
   "source": [
    "def criar_particulas_iniciais(quantidade_particulas: int, raio: float, massa: float) -> list[Particula]: \n",
    "    # primeiro monta uma lista inicial das particulas\n",
    "    lista_particulas = [criador_de_particula(raio, massa) for i in range(quantidade_particulas)]\n",
    "\n",
    "    # depois calculamos o momento total das particulas (exceto a ultima)\n",
    "    momento_total = momento_total_lista(lista_particulas[:-1])\n",
    "    \n",
    "    # e fazemos as velocidades da ultima particula equilibrar para o momento total ser zero \n",
    "    ultima_particula = lista_particulas[-1]\n",
    "    velocidade_ultima_particula = - momento_total / ultima_particula.massa\n",
    "    ultima_particula.vetor_velocidade = velocidade_ultima_particula\n",
    "\n",
    "    return lista_particulas\n",
    "        "
   ]
  },
  {
   "cell_type": "markdown",
   "metadata": {},
   "source": [
    "TESTAGEM"
   ]
  },
  {
   "cell_type": "code",
   "execution_count": 95,
   "metadata": {},
   "outputs": [],
   "source": [
    "teste = Particula(1,2,np.array([1,2,3]),np.array([5,10,15]))"
   ]
  },
  {
   "cell_type": "code",
   "execution_count": 32,
   "metadata": {},
   "outputs": [
    {
     "name": "stdout",
     "output_type": "stream",
     "text": [
      "[1 2 3]\n",
      "[ 6 12 18]\n"
     ]
    }
   ],
   "source": [
    "print(teste.vetor_posicao)\n",
    "teste.atualizar_posicao(1)\n",
    "print(teste.vetor_posicao)"
   ]
  },
  {
   "cell_type": "code",
   "execution_count": 33,
   "metadata": {},
   "outputs": [
    {
     "name": "stdout",
     "output_type": "stream",
     "text": [
      "[ 5 10 15]\n",
      "[  5  10 -15]\n"
     ]
    }
   ],
   "source": [
    "print(teste.vetor_velocidade)\n",
    "teste.parede_reflexao(2)\n",
    "print(teste.vetor_velocidade)"
   ]
  },
  {
   "cell_type": "code",
   "execution_count": null,
   "metadata": {},
   "outputs": [],
   "source": []
  }
 ],
 "metadata": {
  "kernelspec": {
   "display_name": "Python 3",
   "language": "python",
   "name": "python3"
  },
  "language_info": {
   "codemirror_mode": {
    "name": "ipython",
    "version": 3
   },
   "file_extension": ".py",
   "mimetype": "text/x-python",
   "name": "python",
   "nbconvert_exporter": "python",
   "pygments_lexer": "ipython3",
   "version": "3.12.2"
  }
 },
 "nbformat": 4,
 "nbformat_minor": 2
}
