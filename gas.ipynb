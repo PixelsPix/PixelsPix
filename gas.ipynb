{
 "cells": [
  {
   "cell_type": "code",
   "execution_count": 1,
   "metadata": {},
   "outputs": [],
   "source": [
    "import pandas as pd\n",
    "import numpy as np\n",
    "import matplotlib.pyplot as plt"
   ]
  },
  {
   "cell_type": "markdown",
   "metadata": {},
   "source": [
    "INPUTS"
   ]
  },
  {
   "cell_type": "code",
   "execution_count": 11,
   "metadata": {},
   "outputs": [],
   "source": [
    "# a parede é um cubo/quadrado determinado pelo tamanho do lado do cubo/quadrado e numero de dimensoes\n",
    "tamanho_parede: float      = 10\n",
    "numero_dimensoes: int      = 3\n",
    "quantidade_particulas: int = 10\n",
    "\n",
    "raio:  float = 1\n",
    "massa: float = 1\n",
    "\n",
    "velocidade_maxima: float = 10000"
   ]
  },
  {
   "cell_type": "markdown",
   "metadata": {},
   "source": [
    "PARTICULAS"
   ]
  },
  {
   "cell_type": "markdown",
   "metadata": {},
   "source": [
    "- Classe das particulas"
   ]
  },
  {
   "cell_type": "code",
   "execution_count": 3,
   "metadata": {},
   "outputs": [],
   "source": [
    "class Particula:\n",
    "    def __init__(self, raio: float, massa: float, vetor_posicao: list[float], vetor_velocidade: list[float]) -> None:\n",
    "        self.massa = massa\n",
    "        self.raio  = raio\n",
    "        self.vetor_posicao    = np.array(vetor_posicao)\n",
    "        self.vetor_velocidade = np.array(vetor_velocidade)\n",
    "\n",
    "    @property\n",
    "    def momento(self):\n",
    "        return self.massa * self.vetor_velocidade\n",
    "    \n",
    "    @property\n",
    "    def energia_cinetica(self):\n",
    "        return self.massa * self.vetor_velocidade * self.vetor_velocidade\n",
    "    \n",
    "    def atualizar_posicao(self, tempo_decorrido: float) -> None:\n",
    "        self.vetor_posicao += self.vetor_velocidade * tempo_decorrido\n",
    "    \n",
    "    def reflexao(self, dimensao_reflexão: int) -> None:\n",
    "        \"\"\"\n",
    "        Edita o vetor velocidade, invertendo o sentido da velocidade na dimensão dada, como uma colisão elástica com a parede.\n",
    "\n",
    "        Parameters\n",
    "        ----------\n",
    "        dimensao_reflexao : int\n",
    "            0 - Inverte o sentido da velocidade em x\\n\n",
    "            1 - Inverte o sentido da velocidade em y\\n\n",
    "            2 - Inverte o sentido da velocidade em z\n",
    "\n",
    "        \"\"\"\n",
    "        self.vetor_velocidade[dimensao_reflexão] = -self.vetor_velocidade[dimensao_reflexão]\n",
    "\n",
    "    def __str__(self) -> str:\n",
    "        return \"Raio {}, massa {}, posicao {} e velocidade {}\".format(self.raio, self.massa, self.vetor_posicao, self.vetor_velocidade)\n",
    "    \n",
    "    def __repr__(self) -> str:\n",
    "        return \"Particula({}, {}, {}, {})\".format(self.raio, self.massa, self.vetor_posicao.tolist(), self.vetor_velocidade.tolist())"
   ]
  },
  {
   "cell_type": "markdown",
   "metadata": {},
   "source": [
    "- RNG\n",
    "- Criador de vetor aleatorio (com dimensoes certas e sem zeros)"
   ]
  },
  {
   "cell_type": "code",
   "execution_count": 4,
   "metadata": {},
   "outputs": [],
   "source": [
    "# o RNG é um gerador aleatorio de float entre [0, 1)\n",
    "rng = np.random.default_rng()\n",
    "\n",
    "def vetor_aleatorio(valor_minimo: float, valor_maximo: float, dimensoes: int):\n",
    "    \"\"\"Gera um vetor (NDArray) com as dimensões dadas sem zeros, para não ter problemas como iniciar já colidindo com a parede\"\"\"\n",
    "    vetor_zero_a_um = rng.random(dimensoes)\n",
    "    \n",
    "    while min(vetor_zero_a_um) == 0:\n",
    "        vetor_zero_a_um[vetor_zero_a_um == 0] = rng.random() # remapeia valores nulos\n",
    "    \n",
    "    vetor_aleatorio = (valor_maximo - valor_minimo) * vetor_zero_a_um + valor_minimo\n",
    "\n",
    "    return vetor_aleatorio"
   ]
  },
  {
   "cell_type": "markdown",
   "metadata": {},
   "source": [
    "CRIADOR DE LISTA DE PARTICULAS"
   ]
  },
  {
   "cell_type": "markdown",
   "metadata": {},
   "source": [
    "- Calculador de momento total de uma lista de particulas"
   ]
  },
  {
   "cell_type": "code",
   "execution_count": 12,
   "metadata": {},
   "outputs": [],
   "source": [
    "def momento_total_lista(lista_de_particulas: list[Particula]):\n",
    "    momento_total = np.zeros(numero_dimensoes)\n",
    "    \n",
    "    for particula in lista_de_particulas:\n",
    "        momento_total += particula.momento\n",
    "        \n",
    "    return momento_total"
   ]
  },
  {
   "cell_type": "markdown",
   "metadata": {},
   "source": [
    "- Criador de partículas\n",
    "- Criador da lista de partículas"
   ]
  },
  {
   "cell_type": "code",
   "execution_count": 6,
   "metadata": {},
   "outputs": [],
   "source": [
    "# criador de particula\n",
    "def criador_de_particula(raio: float, massa: float) -> Particula:\n",
    "    posicao_criada = vetor_aleatorio(0, tamanho_parede, numero_dimensoes)\n",
    "    velocidade_criada = vetor_aleatorio(-velocidade_maxima, velocidade_maxima) # velocidades podem ser positivas ou negativas\n",
    "\n",
    "    particula_criada = Particula(raio, massa, posicao_criada, velocidade_criada)\n",
    "    return particula_criada\n",
    "\n",
    "\n",
    "# criador da lista de partículas\n",
    "def criar_particulas_iniciais(quantidade_particulas: int, raio: float, massa: float) -> list[Particula]: \n",
    "    # primeiro monta uma lista inicial das particulas\n",
    "    lista_particulas = [criador_de_particula(raio, massa) for i in range(quantidade_particulas)]\n",
    "\n",
    "    # depois calculamos o momento total das particulas (exceto a ultima)\n",
    "    momento_total = momento_total_lista(lista_particulas[:-1])\n",
    "    \n",
    "    # e fazemos as velocidades da ultima particula equilibrar para o momento total ser zero \n",
    "    ultima_particula = lista_particulas[-1]\n",
    "    velocidade_ultima_particula = - momento_total / ultima_particula.massa\n",
    "    ultima_particula.vetor_velocidade = velocidade_ultima_particula\n",
    "\n",
    "    return lista_particulas\n",
    "        "
   ]
  },
  {
   "cell_type": "markdown",
   "metadata": {},
   "source": [
    "FUNÇÃO DAS COLISÕES"
   ]
  },
  {
   "cell_type": "markdown",
   "metadata": {},
   "source": [
    "As colisões podem ser calculadas levando o problema para 1 dimensão (linha da colisão) e retornando para as N dimensões."
   ]
  },
  {
   "cell_type": "markdown",
   "metadata": {},
   "source": [
    "TESTAGEM"
   ]
  },
  {
   "cell_type": "code",
   "execution_count": 7,
   "metadata": {},
   "outputs": [],
   "source": [
    "teste = Particula(1,2,np.array([1,2,3]),np.array([5,10,15]))"
   ]
  },
  {
   "cell_type": "code",
   "execution_count": 8,
   "metadata": {},
   "outputs": [],
   "source": [
    "teste.reflexao(0)"
   ]
  },
  {
   "cell_type": "code",
   "execution_count": 9,
   "metadata": {},
   "outputs": [
    {
     "name": "stdout",
     "output_type": "stream",
     "text": [
      "[1 2 3]\n",
      "[-4 12 18]\n"
     ]
    }
   ],
   "source": [
    "print(teste.vetor_posicao)\n",
    "teste.atualizar_posicao(1)\n",
    "print(teste.vetor_posicao)"
   ]
  },
  {
   "cell_type": "code",
   "execution_count": 10,
   "metadata": {},
   "outputs": [
    {
     "name": "stdout",
     "output_type": "stream",
     "text": [
      "[-5 10 15]\n",
      "[ -5  10 -15]\n"
     ]
    }
   ],
   "source": [
    "print(teste.vetor_velocidade)\n",
    "teste.reflexao(2)\n",
    "print(teste.vetor_velocidade)"
   ]
  }
 ],
 "metadata": {
  "kernelspec": {
   "display_name": "Python 3",
   "language": "python",
   "name": "python3"
  },
  "language_info": {
   "codemirror_mode": {
    "name": "ipython",
    "version": 3
   },
   "file_extension": ".py",
   "mimetype": "text/x-python",
   "name": "python",
   "nbconvert_exporter": "python",
   "pygments_lexer": "ipython3",
   "version": "3.12.5"
  }
 },
 "nbformat": 4,
 "nbformat_minor": 2
}
