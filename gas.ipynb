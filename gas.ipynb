{
 "cells": [
  {
   "cell_type": "code",
   "execution_count": 1,
   "metadata": {},
   "outputs": [],
   "source": [
    "import pandas as pd\n",
    "import numpy as np\n",
    "import matplotlib.pyplot as plt"
   ]
  },
  {
   "cell_type": "markdown",
   "metadata": {},
   "source": [
    "Classe das partículas"
   ]
  },
  {
   "cell_type": "code",
   "execution_count": 16,
   "metadata": {},
   "outputs": [],
   "source": [
    "class Particula:\n",
    "    def __init__(self, velocidade: float, angulo_velocidade: float, raio: float, massa: float) -> None:\n",
    "        self.velocidade = velocidade\n",
    "        self.angulo_velocidade = angulo_velocidade\n",
    "        self.massa = massa\n",
    "        self.raio = raio\n",
    "\n",
    "        self.momento = massa * velocidade\n",
    "\n",
    "    def __repr__(self) -> str:\n",
    "        return \"Particula({}, {}, {}, {})\".format(self.velocidade, self.angulo_velocidade, self.raio, self.massa)\n",
    "    \n",
    "    def __str__(self) -> str:\n",
    "        return \"Partícula de massa {}, com velocidade {} e ângulo {}°\".format(self.massa, self.velocidade, round(self.angulo_velocidade * 180 / np.pi, ndigits=2))"
   ]
  },
  {
   "cell_type": "markdown",
   "metadata": {},
   "source": [
    "Testagem"
   ]
  },
  {
   "cell_type": "code",
   "execution_count": 17,
   "metadata": {},
   "outputs": [
    {
     "name": "stdout",
     "output_type": "stream",
     "text": [
      "Partícula de massa 10, com velocidade 1 e ângulo 171.89°\n"
     ]
    }
   ],
   "source": [
    "p1 = Particula(1, 3, 2, 10)\n",
    "print(p1)"
   ]
  },
  {
   "cell_type": "code",
   "execution_count": null,
   "metadata": {},
   "outputs": [],
   "source": []
  }
 ],
 "metadata": {
  "kernelspec": {
   "display_name": "Python 3",
   "language": "python",
   "name": "python3"
  },
  "language_info": {
   "codemirror_mode": {
    "name": "ipython",
    "version": 3
   },
   "file_extension": ".py",
   "mimetype": "text/x-python",
   "name": "python",
   "nbconvert_exporter": "python",
   "pygments_lexer": "ipython3",
   "version": "3.12.2"
  }
 },
 "nbformat": 4,
 "nbformat_minor": 2
}
