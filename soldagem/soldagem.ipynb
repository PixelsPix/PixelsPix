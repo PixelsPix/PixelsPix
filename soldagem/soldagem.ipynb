{
 "cells": [
  {
   "cell_type": "code",
   "execution_count": 40,
   "metadata": {},
   "outputs": [],
   "source": [
    "import pandas as pd\n",
    "import numpy as np\n",
    "import matplotlib.pyplot as plt\n",
    "import matplotlib.widgets"
   ]
  },
  {
   "cell_type": "code",
   "execution_count": 80,
   "metadata": {},
   "outputs": [],
   "source": [
    "df_correntes = pd.read_csv(\"https://raw.githubusercontent.com/PixelsPix/PixelsPix/main/soldagem/100%20Helio/TableI_100He.dat\", delimiter=\"\\t\", header=None, names=[\"tempo (s)\",\"corrente (A)\"])\n",
    "df_potencias = pd.read_csv(\"https://raw.githubusercontent.com/PixelsPix/PixelsPix/main/soldagem/100%20Helio/TableP_100He.dat\", delimiter=\"\\t\", header=None, names=[\"tempo (s)\",\"potencia (W)\"])\n",
    "df_tensoes   = pd.read_csv(\"https://raw.githubusercontent.com/PixelsPix/PixelsPix/main/soldagem/100%20Helio/TableU_100He.dat\", delimiter=\"\\t\", header=None, names=[\"tempo (s)\",\"tensao (V)\"])\n",
    "dados = pd.concat([df_correntes,df_tensoes[\"tensao (V)\"],df_potencias[\"potencia (W)\"]],axis=1)"
   ]
  },
  {
   "cell_type": "code",
   "execution_count": 81,
   "metadata": {},
   "outputs": [
    {
     "data": {
      "text/html": [
       "<div>\n",
       "<style scoped>\n",
       "    .dataframe tbody tr th:only-of-type {\n",
       "        vertical-align: middle;\n",
       "    }\n",
       "\n",
       "    .dataframe tbody tr th {\n",
       "        vertical-align: top;\n",
       "    }\n",
       "\n",
       "    .dataframe thead th {\n",
       "        text-align: right;\n",
       "    }\n",
       "</style>\n",
       "<table border=\"1\" class=\"dataframe\">\n",
       "  <thead>\n",
       "    <tr style=\"text-align: right;\">\n",
       "      <th></th>\n",
       "      <th>tempo (s)</th>\n",
       "      <th>corrente (A)</th>\n",
       "      <th>tensao (V)</th>\n",
       "      <th>potencia (W)</th>\n",
       "    </tr>\n",
       "  </thead>\n",
       "  <tbody>\n",
       "    <tr>\n",
       "      <th>0</th>\n",
       "      <td>0.0000</td>\n",
       "      <td>166.460</td>\n",
       "      <td>32.556</td>\n",
       "      <td>5.419272</td>\n",
       "    </tr>\n",
       "    <tr>\n",
       "      <th>1</th>\n",
       "      <td>0.0002</td>\n",
       "      <td>156.770</td>\n",
       "      <td>30.388</td>\n",
       "      <td>4.763927</td>\n",
       "    </tr>\n",
       "    <tr>\n",
       "      <th>2</th>\n",
       "      <td>0.0004</td>\n",
       "      <td>123.840</td>\n",
       "      <td>27.822</td>\n",
       "      <td>3.445476</td>\n",
       "    </tr>\n",
       "    <tr>\n",
       "      <th>3</th>\n",
       "      <td>0.0006</td>\n",
       "      <td>87.029</td>\n",
       "      <td>26.248</td>\n",
       "      <td>2.284337</td>\n",
       "    </tr>\n",
       "    <tr>\n",
       "      <th>4</th>\n",
       "      <td>0.0008</td>\n",
       "      <td>67.687</td>\n",
       "      <td>29.402</td>\n",
       "      <td>1.990133</td>\n",
       "    </tr>\n",
       "    <tr>\n",
       "      <th>...</th>\n",
       "      <td>...</td>\n",
       "      <td>...</td>\n",
       "      <td>...</td>\n",
       "      <td>...</td>\n",
       "    </tr>\n",
       "    <tr>\n",
       "      <th>149995</th>\n",
       "      <td>29.9990</td>\n",
       "      <td>195.520</td>\n",
       "      <td>32.162</td>\n",
       "      <td>6.288314</td>\n",
       "    </tr>\n",
       "    <tr>\n",
       "      <th>149996</th>\n",
       "      <td>29.9992</td>\n",
       "      <td>174.180</td>\n",
       "      <td>34.925</td>\n",
       "      <td>6.083236</td>\n",
       "    </tr>\n",
       "    <tr>\n",
       "      <th>149997</th>\n",
       "      <td>29.9994</td>\n",
       "      <td>166.460</td>\n",
       "      <td>33.148</td>\n",
       "      <td>5.517816</td>\n",
       "    </tr>\n",
       "    <tr>\n",
       "      <th>149998</th>\n",
       "      <td>29.9996</td>\n",
       "      <td>141.270</td>\n",
       "      <td>32.356</td>\n",
       "      <td>4.570932</td>\n",
       "    </tr>\n",
       "    <tr>\n",
       "      <th>149999</th>\n",
       "      <td>29.9998</td>\n",
       "      <td>108.340</td>\n",
       "      <td>33.148</td>\n",
       "      <td>3.591254</td>\n",
       "    </tr>\n",
       "  </tbody>\n",
       "</table>\n",
       "<p>150000 rows × 4 columns</p>\n",
       "</div>"
      ],
      "text/plain": [
       "        tempo (s)  corrente (A)  tensao (V)  potencia (W)\n",
       "0          0.0000       166.460      32.556      5.419272\n",
       "1          0.0002       156.770      30.388      4.763927\n",
       "2          0.0004       123.840      27.822      3.445476\n",
       "3          0.0006        87.029      26.248      2.284337\n",
       "4          0.0008        67.687      29.402      1.990133\n",
       "...           ...           ...         ...           ...\n",
       "149995    29.9990       195.520      32.162      6.288314\n",
       "149996    29.9992       174.180      34.925      6.083236\n",
       "149997    29.9994       166.460      33.148      5.517816\n",
       "149998    29.9996       141.270      32.356      4.570932\n",
       "149999    29.9998       108.340      33.148      3.591254\n",
       "\n",
       "[150000 rows x 4 columns]"
      ]
     },
     "execution_count": 81,
     "metadata": {},
     "output_type": "execute_result"
    }
   ],
   "source": [
    "dados"
   ]
  },
  {
   "cell_type": "code",
   "execution_count": 84,
   "metadata": {},
   "outputs": [
    {
     "data": {
      "text/plain": [
       "[<matplotlib.lines.Line2D at 0x2823abb2e10>]"
      ]
     },
     "execution_count": 84,
     "metadata": {},
     "output_type": "execute_result"
    },
    {
     "data": {
      "image/png": "[encoded data removed]",
      "text/plain": [
       "<Figure size 640x480 with 1 Axes>"
      ]
     },
     "metadata": {},
     "output_type": "display_data"
    }
   ],
   "source": [
    "plt.plot(df_tensoes[\"tempo (s)\"],df_tensoes[\"tensao (V)\"],)"
   ]
  },
  {
   "cell_type": "code",
   "execution_count": null,
   "metadata": {},
   "outputs": [],
   "source": []
  }
 ],
 "metadata": {
  "kernelspec": {
   "display_name": "Python 3",
   "language": "python",
   "name": "python3"
  },
  "language_info": {
   "codemirror_mode": {
    "name": "ipython",
    "version": 3
   },
   "file_extension": ".py",
   "mimetype": "text/x-python",
   "name": "python",
   "nbconvert_exporter": "python",
   "pygments_lexer": "ipython3",
   "version": "3.12.2"
  }
 },
 "nbformat": 4,
 "nbformat_minor": 2
}
